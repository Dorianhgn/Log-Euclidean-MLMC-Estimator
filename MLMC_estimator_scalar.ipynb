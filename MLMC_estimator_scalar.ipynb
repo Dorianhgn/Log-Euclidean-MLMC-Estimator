{
 "cells": [
  {
   "cell_type": "markdown",
   "metadata": {},
   "source": [
    "# Séance 2 : MLMC estimator (scalar version)\n",
    "\n",
    "We want to implement in python the MLMC estimator of the expectation ([Myzek & de Lozzo](https://hal.science/hal-01894503/document), (2.12)) with $f$ a function that returns a scalar value, defined as here for $d \\in \\mathbb{N}$ : \n",
    "$$\n",
    "\\begin{align*}\n",
    "    f : \\mathbb{R}^d & \\rightarrow \\mathbb{R} \\\\\n",
    "    X & \\mapsto v^T \\cdot X, \\qquad v \\in \\mathbb{R}^d, \n",
    "\\end{align*}\n",
    "$$\n",
    "\n",
    "## Variables definition\n",
    "Let $X \\sim \\mathcal{N}_d(0,1)$, $v_1 \\in \\mathbb{R}^d$ as $f(X) = v_1^T \\cdot X$ with $v_1$ the **high fidelity** coefficent vector.\n",
    "\n",
    "We have : \n",
    "$$\n",
    "\\mathbb{E}\\left[ X \\right] = 0 \\\\\n",
    "\\mathbb{V}\\left( X \\right) = 1$$\n",
    "\n",
    "and :\n",
    "$$\n",
    "\\mathbb{E}\\left[ f(X) \\right] = 0 \\\\\n",
    "\\mathbb{V}\\left( f(X) \\right) = \\mathbb{V}\\left( \\sum_{i=1}^d v_i X_i \\right) = \\sum_{i=1}^d v_i^2 \\mathbb{V}\\left( X_i \\right) = \\sum_{i=1}^d v_i^2 $$\n",
    "because $X_i$ are i.i.d.\n",
    "\n",
    "## Classic estimators\n",
    "Let $(X_n)_{n\\in\\mathbb{N}} \\in \\mathbb{R}^d$ a sequence of random variables i.i.d following the normal distribution $\\mathcal{N}_d(0,1)$.\n",
    "\n",
    "We have :\n",
    "$$\n",
    "\\hat{\\mathbb{E}}\\left[ f(X) \\right] = \\frac{1}{n} \\sum_{i=1}^n f(X) \\\\\n",
    "\\hat{\\mathbb{V}}\\left( f(X) \\right) = \\mathbb{E}\\left[ f(X)^2 \\right] \\approx \\frac{1}{n} \\sum_{i=1}^n f(X)^2\n",
    "$$\n",
    "\n",
    "because $\\mathbb{E}\\left[ f(X) \\right]^2 = 0$.\n"
   ]
  },
  {
   "cell_type": "markdown",
   "metadata": {},
   "source": [
    "### Code\n",
    "\n",
    "First, let's code our functions, and our variables :"
   ]
  },
  {
   "cell_type": "code",
   "execution_count": null,
   "metadata": {},
   "outputs": [],
   "source": [
    "import numpy as np "
   ]
  },
  {
   "cell_type": "code",
   "execution_count": null,
   "metadata": {},
   "outputs": [],
   "source": [
    "# Constants \n",
    "d = 10\n",
    "\n",
    "#print(np.random.uniform(-1,1,d))\n",
    "\n",
    "v_1= np.array([-0.00606533, -0.02837768, -0.20481078, -0.05524456,  0.00408442, -0.02378791, -0.11289296, -0.09047946, -0.0828985,   0.01015773])"
   ]
  },
  {
   "cell_type": "code",
   "execution_count": null,
   "metadata": {},
   "outputs": [],
   "source": [
    "# Define f\n",
    "\n",
    "def f(X,v):\n",
    "    return v.T@X"
   ]
  },
  {
   "cell_type": "code",
   "execution_count": null,
   "metadata": {},
   "outputs": [],
   "source": [
    "# Testing f\n",
    "X = np.random.standard_normal(10)\n",
    "print(f(X,v_1))"
   ]
  },
  {
   "cell_type": "markdown",
   "metadata": {},
   "source": [
    "Now let's estimate the expectation and the variance of $f(X)$ for several $X_i$."
   ]
  },
  {
   "cell_type": "code",
   "execution_count": null,
   "metadata": {},
   "outputs": [],
   "source": [
    "n=100\n",
    "X = np.random.standard_normal((d,n))"
   ]
  },
  {
   "cell_type": "code",
   "execution_count": null,
   "metadata": {},
   "outputs": [],
   "source": [
    "# print(X)"
   ]
  },
  {
   "cell_type": "code",
   "execution_count": null,
   "metadata": {},
   "outputs": [],
   "source": [
    "def f_vec(X,v):\n",
    "    \"\"\"\n",
    "    X : (d,n) matrix\n",
    "    v : d vector \n",
    "    \"\"\"\n",
    "    return v.T@X\n",
    "\n",
    "def f_vec_squared(X,v):\n",
    "    \"\"\"\n",
    "    X : (d,n) matrix\n",
    "    v : d vector \n",
    "    \"\"\"\n",
    "    return (v.T@X)**2\n",
    "\n",
    "exp_var = np.sum(np.square(v_1))"
   ]
  },
  {
   "cell_type": "code",
   "execution_count": null,
   "metadata": {},
   "outputs": [],
   "source": [
    "# Estimation of the expecation and the variance :\n",
    "E_MC = np.mean(f_vec(X,v_1))\n",
    "Var_MC = np.mean(f_vec_squared(X,v_1))\n",
    "print(\"Expectation = \", E_MC)\n",
    "print(\"Variance = \", Var_MC)\n",
    "print(\"Expected variance (sum of v_i^2) = \", exp_var)"
   ]
  },
  {
   "cell_type": "markdown",
   "metadata": {},
   "source": [
    "For n = 100, we are quite good with the standard MC method."
   ]
  },
  {
   "cell_type": "markdown",
   "metadata": {},
   "source": [
    "## MLMC estimation\n",
    "We still have $(X_n)_{n\\in\\mathbb{N}} \\in \\mathbb{R}^d$ a sequence of random variables i.i.d following the normal distribution $\\mathcal{N}_d(0,1)$. \n",
    "\n",
    "We still have $v_1 \\in \\mathbb{R}^d$ for our function $f_1$ (previous $f$). We now have a low fidelity function $f_0$ based on the high fidelity function $f_1$ with $v_0 = v_1 + \\varepsilon$, with $\\varepsilon \\sim \\mathcal{N}_d(0_d,\\sigma^2 I_d)$ and $\\sigma^2 = 0.01$ or $0.1$. \n",
    "\n",
    "We now have :\n",
    "\n",
    "$$\n",
    "\\hat{\\mathbb{E}}\\left[ f_1(X) \\right] = \\frac{1}{n_0} \\sum_{k=1}^{n_0} f_0(X^{(k,0)}) + \\frac{1}{n_1} \\sum_{k=1}^{n_1} \\left[f_1(X^{(k,1)})-f_0(X^{(k,1)})\\right]\n",
    "$$\n",
    "\n",
    "We have aswell for the variance : \n",
    "$$\n",
    "\\begin{align}\n",
    "\\hat{\\mathbb{V}}\\left( f_1(X) \\right) &= \\mathbb{E}\\left[ f_1(X)^2 \\right] \\\\\n",
    "& \\approx \\frac{1}{n_0} \\sum_{k=1}^{n_0} f_0(X^{(k)})^2 + \\frac{1}{n_1} \\mathbb{V}\\left( f_1(X) - f_0(X) \\right) \\leftarrow \\text{pas bon !} \\\\\n",
    "& \\approx \\frac{1}{n_0} \\sum_{k=1}^{n_0} f_0(X^{(k,0)})^2 + \\frac{1}{n_1} \\sum_{k=1}^{n_1} \\left[f_1(X^{(k,1)})^2 -f_0(X^{(k,1)})^2 \\right] \\\\\n",
    "\\end{align}\n",
    "$$\n",
    "\n",
    "with : \n",
    "$$\n",
    "\\begin{align}\n",
    "\\mathbb{V}\\left( f_\\ell(X) - f_{\\ell-1}(X) \\right) & = \\mathbb{E}\\left[ \\left( f_\\ell(X) - f_{\\ell-1}(X) \\right)^2 \\right] - \\mathbb{E}\\left[ f_\\ell(X) - f_{\\ell-1}(X) \\right]^2 \\\\\n",
    "& = \\mathbb{E}\\left[ \\left( f_\\ell(X) - f_{\\ell-1}(X) \\right)^2 \\right] - \\left(\\mathbb{E}\\left[ f_\\ell(X)\\right]-\\mathbb{E}\\left[ f_{\\ell-1}(X) \\right] \\right)^2 \\\\\n",
    "&= \\mathbb{E}\\left[ \\left( f_\\ell(X) - f_{\\ell-1}(X) \\right)^2 \\right] \\\\\n",
    "\\end{align}  \n",
    "$$\n",
    "\n",
    "cause $ \\mathbb{E}\\left[ f_\\ell(X)\\right] = 0, \\; \\forall \\ell \\in \\{0,...,L\\} $ \n"
   ]
  },
  {
   "cell_type": "markdown",
   "metadata": {},
   "source": [
    "### Code\n",
    "\n",
    "Let's code our variables :"
   ]
  },
  {
   "cell_type": "code",
   "execution_count": null,
   "metadata": {},
   "outputs": [],
   "source": [
    "d = 10 # lenght of random vectors\n",
    "print(\"sample size n =\", n)"
   ]
  },
  {
   "cell_type": "code",
   "execution_count": null,
   "metadata": {},
   "outputs": [],
   "source": [
    "eps = np.random.normal(0,0.01,d)\n",
    "# print(eps)\n",
    "\n",
    "v_0 = v_1 + eps"
   ]
  },
  {
   "cell_type": "code",
   "execution_count": null,
   "metadata": {},
   "outputs": [],
   "source": [
    "n0 = 100\n",
    "n1 = 10\n",
    "X1 = np.random.standard_normal((d,n1))\n",
    "X0 = np.random.standard_normal((d,n0))"
   ]
  },
  {
   "cell_type": "code",
   "execution_count": null,
   "metadata": {},
   "outputs": [],
   "source": [
    "# Calcul de E_MLMC\n",
    "Y1_1 = f_vec(X1,v_1)\n",
    "Y1_0 = f_vec(X1,v_0)\n",
    "Y0_0 = f_vec(X0,v_0)\n",
    "E_MLMC = np.mean(Y0_0) + np.mean(Y1_1-Y1_0)\n",
    "print(\"E_MLMC =\", E_MLMC)"
   ]
  },
  {
   "cell_type": "code",
   "execution_count": null,
   "metadata": {},
   "outputs": [],
   "source": [
    "# Calcul de Var_MLMC\n",
    "#  3.7900798793633337\n",
    "Y0_0_squared = f_vec_squared(X0,v_0)\n",
    "Y1_0_squared = f_vec_squared(X1,v_0)\n",
    "Y1_1_squared = f_vec_squared(X1,v_1)\n",
    "Var_MLMC = np.mean(Y0_0_squared) + np.mean(Y1_1_squared-Y1_0_squared)\n",
    "print(\"Var_MLMC =\", Var_MLMC)"
   ]
  },
  {
   "cell_type": "code",
   "execution_count": null,
   "metadata": {},
   "outputs": [],
   "source": [
    "# Comparaison \n",
    "Err_Var_MC = np.abs(Var_MC-exp_var)/exp_var * 100\n",
    "Err_Var_MLMC = np.abs(Var_MLMC-exp_var)/exp_var * 100\n",
    "\n",
    "print(\"Error on the Var_MC =\",Err_Var_MC, \"%\\nError on the Var_MLMC =\", Err_Var_MLMC,\"%\")"
   ]
  },
  {
   "cell_type": "markdown",
   "metadata": {},
   "source": []
  }
 ],
 "metadata": {
  "kernelspec": {
   "display_name": "base",
   "language": "python",
   "name": "python3"
  },
  "language_info": {
   "codemirror_mode": {
    "name": "ipython",
    "version": 3
   },
   "file_extension": ".py",
   "mimetype": "text/x-python",
   "name": "python",
   "nbconvert_exporter": "python",
   "pygments_lexer": "ipython3",
   "version": "3.8.5"
  }
 },
 "nbformat": 4,
 "nbformat_minor": 2
}
