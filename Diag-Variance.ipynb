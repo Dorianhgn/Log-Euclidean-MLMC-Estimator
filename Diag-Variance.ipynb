{
 "cells": [
  {
   "cell_type": "markdown",
   "metadata": {},
   "source": [
    "# Diagnostque de l'estimateur \n",
    "\n",
    "Le but de cette partie est de se rendre compte de la fiabilité de l'estimateur de la variance en MLMC en estimant sa variance. On comparera les résultats à celui de l'estimateur classique MC. "
   ]
  },
  {
   "cell_type": "code",
   "execution_count": 30,
   "metadata": {},
   "outputs": [],
   "source": [
    "import numpy as np "
   ]
  },
  {
   "cell_type": "markdown",
   "metadata": {},
   "source": [
    "## calcul de l'estimateur \n",
    "On se place dans la cas fidélité 2. Nos donnés sont des vecteurs gaussiens centrés réduits de dimension d.\n",
    "La formule de la variance pour un vecteur gaussien est la suivante: \n",
    " \n",
    "$\\hat{\\mathbb{V}}\\left( f_1(X) \\right) = \\mathbb{E}\\left[ f_1(X)^2 \\right] $"
   ]
  },
  {
   "cell_type": "code",
   "execution_count": 31,
   "metadata": {},
   "outputs": [],
   "source": [
    "def f_vec(X,v):\n",
    "    return v.T@X\n",
    "\n",
    "def f_vec_squared(X,v):\n",
    "    return (v.T@X)**2"
   ]
  },
  {
   "cell_type": "code",
   "execution_count": 32,
   "metadata": {},
   "outputs": [],
   "source": [
    "def estim_var_MLMC(n0,n1):\n",
    "    d = 10 # lenght of random vectors\n",
    "\n",
    "    v_1= np.array([-0.18268292, -0.63730044,  0.49158538, -0.51712638, -0.90171302,  0.40921266,  0.63791406,  0.70701292, -0.24888679,  0.94455888])#vecteur coef haute fidélité \n",
    "    eps = np.random.normal(0,0.01,d) \n",
    "    v_0 = v_1 + eps  #vecteur ceof basse fidélité \n",
    "\n",
    "    X1 = np.random.standard_normal((d,n1))\n",
    "    X0 = np.random.standard_normal((d,n0))\n",
    "\n",
    "    #estimateur de l'espérence\n",
    "    Y1_1 = f_vec(X1,v_1)\n",
    "    Y1_0 = f_vec(X1,v_0)\n",
    "    Y0_0 = f_vec(X0,v_0)\n",
    "    E_MLMC = np.mean(Y0_0) + np.mean(Y1_1-Y1_0)\n",
    "\n",
    "    #estimateur de la variance \n",
    "    Y0_0_squared = f_vec_squared(X0,v_0)\n",
    "    Y1_0_squared = f_vec_squared(X1,v_0)\n",
    "    Y1_1_squared = f_vec_squared(X1,v_1)\n",
    "    Var_MLMC = np.mean(Y0_0_squared) + np.mean(Y1_1_squared-Y1_0_squared)\n",
    "\n",
    "    return Var_MLMC\n"
   ]
  },
  {
   "cell_type": "markdown",
   "metadata": {},
   "source": [
    "## Variance de cet estimateur\n",
    "\n",
    "On calcul maintenant la variance des rélutats que nous donne cet estimateur pour n=100000 résultats. "
   ]
  },
  {
   "cell_type": "code",
   "execution_count": 33,
   "metadata": {},
   "outputs": [],
   "source": [
    "def var_est_var_MLMC(n):\n",
    "    n1=3\n",
    "    n0=99\n",
    "    tab_var=[]\n",
    "    for i in range(n):\n",
    "        tab_var.append(estim_var_MLMC(n0,n1))\n",
    "    return (np.var(tab_var))"
   ]
  },
  {
   "cell_type": "code",
   "execution_count": 34,
   "metadata": {},
   "outputs": [
    {
     "name": "stdout",
     "output_type": "stream",
     "text": [
      "0.2929353607349991\n"
     ]
    }
   ],
   "source": [
    "print(var_est_var_MLMC(10000))"
   ]
  },
  {
   "cell_type": "markdown",
   "metadata": {},
   "source": [
    "##methode classique MC"
   ]
  },
  {
   "cell_type": "code",
   "execution_count": 35,
   "metadata": {},
   "outputs": [],
   "source": [
    "def  var_est_var_MC(n):\n",
    "    tab_var=[]\n",
    "    d = 10\n",
    "    v_1= np.array([-0.18268292, -0.63730044,  0.49158538, -0.51712638, -0.90171302,  0.40921266,  0.63791406,  0.70701292, -0.24888679,  0.94455888])\n",
    "\n",
    "    for i in range(n):\n",
    "        X = np.random.standard_normal((d,100))\n",
    "        estim_var_MC=np.mean(f_vec_squared(X,v_1))\n",
    "        tab_var.append(estim_var_MC)\n",
    "    return (np.var(tab_var))\n"
   ]
  },
  {
   "cell_type": "code",
   "execution_count": 36,
   "metadata": {},
   "outputs": [
    {
     "name": "stdout",
     "output_type": "stream",
     "text": [
      "0.29996575625503824\n",
      "0.28498620859965484\n"
     ]
    }
   ],
   "source": [
    "print(var_est_var_MLMC(10000))\n",
    "print(var_est_var_MC(10000))"
   ]
  }
 ],
 "metadata": {
  "kernelspec": {
   "display_name": "base",
   "language": "python",
   "name": "python3"
  },
  "language_info": {
   "codemirror_mode": {
    "name": "ipython",
    "version": 3
   },
   "file_extension": ".py",
   "mimetype": "text/x-python",
   "name": "python",
   "nbconvert_exporter": "python",
   "pygments_lexer": "ipython3",
   "version": "3.11.5"
  }
 },
 "nbformat": 4,
 "nbformat_minor": 2
}
