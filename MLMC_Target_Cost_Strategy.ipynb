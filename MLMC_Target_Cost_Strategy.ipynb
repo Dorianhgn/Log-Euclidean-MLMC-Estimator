{
 "cells": [
  {
   "cell_type": "markdown",
   "metadata": {},
   "source": [
    "# Target cost strategy\n",
    "\n",
    "- Trouver l'allocation des échantillons sur chaque niveau de fidélité (eq. 2.39 Mycek & De Lozzo) :\n",
    "    - $\\mathcal{V}_\\ell = \\mathbb{V}[f_\\ell(X)^2 - f_{\\ell-1}(X)^2]$\n",
    "        - à estimer avec un échantillon \"pilote\" indépendant de taille $n = 10000$\n",
    "    - $\\mathcal{C}_\\ell = 2\\mathcal{C}_{\\ell-1}$\n",
    "    - Pour 2 niveaux :\n",
    "        - $\\mathcal{V}_0 = \\mathbb{V}[f_0(X)^2]$\n",
    "        - $\\mathcal{V}_1 = \\mathbb{V}[f_1(X)^2 - f_0(X)^2]$\n",
    "        - $\\mathcal{C}_1 = 1$\n",
    "        - $\\mathcal{C}_0 = 0.5$\n",
    "    - on se donne un budget $\\eta = 100$.\n",
    "    - dans notre cas, $m=0$"
   ]
  },
  {
   "cell_type": "code",
   "execution_count": null,
   "metadata": {},
   "outputs": [],
   "source": [
    "import numpy as np "
   ]
  },
  {
   "cell_type": "code",
   "execution_count": null,
   "metadata": {},
   "outputs": [],
   "source": [
    "# Constants \n",
    "d = 10\n",
    "\n",
    "\n",
    "#print(np.random.uniform(-1,1,d))\n",
    "#v_1= np.array([-0.18268292, -0.63730044,  0.49158538, -0.51712638, -0.90171302,  0.40921266,  0.63791406,  0.70701292, -0.24888679,  0.94455888])\n",
    "v_1= np.array([-0.00606533, -0.02837768, -0.20481078, -0.05524456,  0.00408442, -0.02378791, -0.11289296, -0.09047946, -0.0828985,   0.01015773])\n",
    "#v_0 = np.array([-0.00589986, -0.02848255, -0.2058163,  -0.05332501,  0.00356343, -0.02399142, -0.11355733, -0.08986586, -0.08302782,  0.0085727 ])\n",
    "eps = np.random.normal(0,0.05,d) \n",
    "v_0 = v_1 + eps  #vecteur ceof basse fidélité \n",
    "print(v_0)\n",
    "\n",
    "def f_vec(X,v):\n",
    "    \"\"\"\n",
    "    X : (d,n) matrix\n",
    "    v : d vector \n",
    "    \"\"\"\n",
    "    return v.T@X\n",
    "\n",
    "def f_vec_squared(X,v):\n",
    "    \"\"\"\n",
    "    X : (d,n) matrix\n",
    "    v : d vector \n",
    "    \"\"\"\n",
    "    return (v.T@X)**2\n",
    "\n",
    "exp_var = np.sum(np.square(v_1))\n",
    "\n",
    "print(exp_var)"
   ]
  },
  {
   "cell_type": "markdown",
   "metadata": {},
   "source": [
    "Première chose à faire : Trouver $\\mathcal{V}_0$ et $\\mathcal{V}_1$"
   ]
  },
  {
   "cell_type": "code",
   "execution_count": null,
   "metadata": {},
   "outputs": [],
   "source": [
    "tab_V_0 = []\n",
    "tab_V_1 = []\n",
    "tab_Var_1 = []\n",
    "\n",
    "N = 1000\n",
    "n0 = 100\n",
    "n1 = 10\n",
    "\n",
    "# for _ in range(N):\n",
    "#     X1 = np.random.standard_normal((d,10000))\n",
    "#     X0 = np.random.standard_normal((d,))\n",
    "#     tab_V_0.append(f_vec_squared(X0,v_0))\n",
    "#     tab_V_1.append(f_vec_squared(X1,v_1) - f_vec_squared(X1,v_0))\n",
    "#     tab_Var_1.append(f_vec_squared(X0,v_1))\n",
    "\n"
   ]
  },
  {
   "cell_type": "code",
   "execution_count": null,
   "metadata": {},
   "outputs": [],
   "source": [
    "N = 10000\n",
    "X = np.random.standard_normal((d,N))\n",
    "V_0 = np.var(f_vec_squared(X,v_0))\n",
    "V_1 = np.var(f_vec_squared(X,v_1) - f_vec_squared(X,v_0))"
   ]
  },
  {
   "cell_type": "code",
   "execution_count": null,
   "metadata": {},
   "outputs": [],
   "source": [
    "# V_0 = np.var(tab_V_0)\n",
    "# V_1 = np.var(tab_V_1)\n",
    "# Var_1 = np.var(tab_Var_1)"
   ]
  },
  {
   "cell_type": "code",
   "execution_count": null,
   "metadata": {},
   "outputs": [],
   "source": [
    "print(V_0, V_1)\n",
    "# print(Var_1)"
   ]
  },
  {
   "cell_type": "markdown",
   "metadata": {},
   "source": [
    "Calcul de $M_\\ell = m + 1 + \\lfloor (\\tilde{\\eta} / \\mathcal{S}_L) \\sqrt{\\mathcal{V}_\\ell / \\mathcal{C}_\\ell} \\rfloor > m $\n",
    "\n",
    "avec : \n",
    "$$\n",
    " \\tilde{\\eta} = \\eta - m \\sum_{\\ell' \\le L} \\mathcal{C}_{\\ell'} \\\\\n",
    " \\mathcal{S}_L = \\sum_{\\ell \\le L} \\sqrt{\\mathcal{V}_\\ell \\mathcal{C}_\\ell}\n",
    " $$\n"
   ]
  },
  {
   "cell_type": "markdown",
   "metadata": {},
   "source": [
    "Ici, nous avons :\n",
    "$$\n",
    "m = 0 \\\\\n",
    "\\mathcal{C}_1 = 1 \\\\\n",
    "\\mathcal{C}_0 = 0.5 \\\\\n",
    "\\eta = 100\n",
    "$$"
   ]
  },
  {
   "cell_type": "code",
   "execution_count": null,
   "metadata": {},
   "outputs": [],
   "source": [
    "def M_ell(eta, V_ell, C_ell,ell, m=0):\n",
    "    \"\"\"\n",
    "    eta : budget\n",
    "    V_ell : tableau contenant [V_0,V_1,...,V_L]\n",
    "    C_ell : tableau contenant [C_0,C_1,...,C_L]\n",
    "\n",
    "    return : la formule M_ell au dessus qui nous donne le nombre d'élement optimal à simuler\n",
    "    \"\"\"\n",
    "    eta_tilde = eta # - m*np.sum(...)\n",
    "    S_L = np.sum(np.sqrt(np.multiply(V_ell,C_ell)))\n",
    "    print(S_L**2/eta)\n",
    "    \n",
    "    return m + 1 + np.floor(\n",
    "        (eta_tilde/S_L)*np.sqrt(V_ell[ell]/C_ell[ell])\n",
    "    )\n"
   ]
  },
  {
   "cell_type": "code",
   "execution_count": null,
   "metadata": {},
   "outputs": [],
   "source": [
    "V_ell = [V_0,V_1]\n",
    "C_ell = [0.75,1.]\n",
    "eta=20\n",
    "\n",
    "M_0 = M_ell(eta,V_ell,C_ell,0)\n",
    "M_1 = M_ell(eta,V_ell,C_ell,1)"
   ]
  },
  {
   "cell_type": "code",
   "execution_count": null,
   "metadata": {},
   "outputs": [],
   "source": [
    "print(M_0,M_1)"
   ]
  },
  {
   "cell_type": "markdown",
   "metadata": {},
   "source": [
    "CCL : On aurait 99 pour n_0 et 3 pour n_1, ie 99 simulations basse fidélité et 3 haute fidélité pour obtenir un resultat optimal avec un budget de $\\eta = 100$"
   ]
  },
  {
   "cell_type": "code",
   "execution_count": null,
   "metadata": {},
   "outputs": [],
   "source": []
  }
 ],
 "metadata": {
  "kernelspec": {
   "display_name": "base",
   "language": "python",
   "name": "python3"
  },
  "language_info": {
   "codemirror_mode": {
    "name": "ipython",
    "version": 3
   },
   "file_extension": ".py",
   "mimetype": "text/x-python",
   "name": "python",
   "nbconvert_exporter": "python",
   "pygments_lexer": "ipython3",
   "version": "3.8.5"
  }
 },
 "nbformat": 4,
 "nbformat_minor": 2
}
