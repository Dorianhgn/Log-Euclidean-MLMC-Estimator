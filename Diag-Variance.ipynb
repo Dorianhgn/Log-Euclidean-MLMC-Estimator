{
 "cells": [
  {
   "cell_type": "markdown",
   "metadata": {},
   "source": [
    "# Diagnostque de l'estimateur \n",
    "\n",
    "Le but de cette partie est se rendre compte de la fiabilité de l'estimateur de la variance en MLMC en calculant sa variance. On comparera les résultats à celle de l'estimateur classique MC. "
   ]
  },
  {
   "cell_type": "code",
   "execution_count": 26,
   "metadata": {},
   "outputs": [],
   "source": [
    "import numpy as np "
   ]
  },
  {
   "cell_type": "markdown",
   "metadata": {},
   "source": [
    "## calcul des estimateurs MLMC et MLMC log euclidien \n",
    "On se place dans la cas fidélité 2. Nos donnés sont des vecteurs gaussiens centrés réduits de dimension d.\n",
    "formule de la variance: \n",
    " \n",
    "$\\hat{\\mathbb{V}}\\left( f_1(X) \\right) = \\mathbb{E}\\left[ f_1(X)^2 \\right] $"
   ]
  },
  {
   "cell_type": "code",
   "execution_count": 27,
   "metadata": {},
   "outputs": [],
   "source": [
    "def f_vec(X,v):\n",
    "    return v.T@X\n",
    "\n",
    "def f_vec_squared(X,v):\n",
    "    return (v.T@X)**2\n",
    "\n",
    "d = 10 # lenght of random vectors\n",
    "\n",
    "v_1= np.array([-0.18268292, -0.63730044,  0.49158538, -0.51712638, -0.90171302,  0.40921266,  0.63791406,  0.70701292, -0.24888679,  0.94455888])#vecteur coef haute fidélité \n",
    "eps = np.random.normal(0,0.01,d) \n",
    "v_0 = v_1 + eps  #vecteur ceof basse fidélité "
   ]
  },
  {
   "cell_type": "code",
   "execution_count": 28,
   "metadata": {},
   "outputs": [],
   "source": [
    "def estim_var_MLMC(n0,n1):\n",
    "    X1 = np.random.standard_normal((d,n1))\n",
    "    X0 = np.random.standard_normal((d,n0))\n",
    "\n",
    "    #estimateur de l'espérence\n",
    "    Y1_1 = f_vec(X1,v_1)\n",
    "    Y1_0 = f_vec(X1,v_0)\n",
    "    Y0_0 = f_vec(X0,v_0)\n",
    "    E_MLMC = np.mean(Y0_0) + np.mean(Y1_1-Y1_0)\n",
    "\n",
    "    #estimateur de la variance \n",
    "    Y0_0_squared = f_vec_squared(X0,v_0)\n",
    "    Y1_0_squared = f_vec_squared(X1,v_0)\n",
    "    Y1_1_squared = f_vec_squared(X1,v_1)\n",
    "    Var_MLMC = np.mean(Y0_0_squared) + np.mean(Y1_1_squared-Y1_0_squared)\n",
    "\n",
    "    return Var_MLMC\n"
   ]
  },
  {
   "cell_type": "code",
   "execution_count": 29,
   "metadata": {},
   "outputs": [],
   "source": [
    "def estim_var_MLMC_log(n0,n1):\n",
    "    X1 = np.random.standard_normal((d,n1))\n",
    "    X0 = np.random.standard_normal((d,n0))\n",
    "\n",
    "    #estimateur de l'espérence\n",
    "    Y1_1 = f_vec(X1,v_1)\n",
    "    Y1_0 = f_vec(X1,v_0)\n",
    "    Y0_0 = f_vec(X0,v_0)\n",
    "    E_MLMC = np.mean(Y0_0) + np.mean(Y1_1-Y1_0)\n",
    "\n",
    "    #estimateur de la variance \n",
    "    Y0_0_squared = f_vec_squared(X0,v_0)\n",
    "    Y1_0_squared = f_vec_squared(X1,v_0)\n",
    "    Y1_1_squared = f_vec_squared(X1,v_1)\n",
    "    Var_MLMC_log = np.exp(np.log(np.mean(Y0_0_squared)) + np.log(np.mean(Y1_1_squared))-np.log(np.mean(Y1_0_squared)))\n",
    "    return Var_MLMC_log"
   ]
  },
  {
   "cell_type": "markdown",
   "metadata": {},
   "source": [
    "## Variance de ces estimateurs\n",
    "\n",
    "On calcul maintenant la variance des rélutats que nous donne cet estimateur pour n=100000 résultats. "
   ]
  },
  {
   "cell_type": "code",
   "execution_count": 30,
   "metadata": {},
   "outputs": [],
   "source": [
    "def var_est_var_MLMC(n):\n",
    "    n1=5\n",
    "    n0=953\n",
    "    tab_var=[]\n",
    "    tab_var_log =[]\n",
    "    for i in range(n):\n",
    "        tab_var.append(estim_var_MLMC(n0,n1))\n",
    "        tab_var_log.append(estim_var_MLMC_log(n0,n1))\n",
    "    return [np.var(tab_var),np.var(tab_var_log)]"
   ]
  },
  {
   "cell_type": "code",
   "execution_count": 31,
   "metadata": {},
   "outputs": [
    {
     "name": "stdout",
     "output_type": "stream",
     "text": [
      "26.013479932611038\n"
     ]
    }
   ],
   "source": [
    "def estim_var_HF():\n",
    "    d = 10 # lenght of random vectors\n",
    "\n",
    "    v_1= np.array([-0.18268292, -0.63730044,  0.49158538, -0.51712638, -0.90171302,  0.40921266,  0.63791406,  0.70701292, -0.24888679,  0.94455888])#vecteur coef haute fidélité \n",
    "    eps = np.random.normal(0,0.01,d) \n",
    "    v_0 = v_1 + eps\n",
    "    X1 = np.random.standard_normal((d,150))\n",
    "    Y1_1_squared=f_vec_squared(X1,v_1)\n",
    "    return(np.var(Y1_1_squared))\n",
    "print (estim_var_HF())\n",
    "    "
   ]
  },
  {
   "cell_type": "code",
   "execution_count": 32,
   "metadata": {},
   "outputs": [
    {
     "name": "stdout",
     "output_type": "stream",
     "text": [
      "[0.031392035704323244, 0.031110678159381382]\n"
     ]
    }
   ],
   "source": [
    "print(var_est_var_MLMC(10000))"
   ]
  },
  {
   "cell_type": "markdown",
   "metadata": {},
   "source": [
    "##methode classique MC"
   ]
  },
  {
   "cell_type": "code",
   "execution_count": 33,
   "metadata": {},
   "outputs": [],
   "source": [
    "def  var_est_var_MC(n):\n",
    "    tab_var=[]\n",
    "    d = 10\n",
    "    v_1= np.array([-0.18268292, -0.63730044,  0.49158538, -0.51712638, -0.90171302,  0.40921266,  0.63791406,  0.70701292, -0.24888679,  0.94455888])\n",
    "\n",
    "    for i in range(n):\n",
    "        X = np.random.standard_normal((d,100))\n",
    "        estim_var_MC=np.mean(f_vec_squared(X,v_1))\n",
    "        tab_var.append(estim_var_MC)\n",
    "    return (np.var(tab_var))\n"
   ]
  },
  {
   "cell_type": "code",
   "execution_count": 34,
   "metadata": {},
   "outputs": [
    {
     "name": "stdout",
     "output_type": "stream",
     "text": [
      "[0.0313201264645907, 0.0316268314391619]\n",
      "0.2889094895121786\n"
     ]
    }
   ],
   "source": [
    "print(var_est_var_MLMC(10000))\n",
    "print(var_est_var_MC(10000))"
   ]
  },
  {
   "cell_type": "markdown",
   "metadata": {},
   "source": [
    "## Cas pathologiqe"
   ]
  },
  {
   "cell_type": "code",
   "execution_count": 38,
   "metadata": {},
   "outputs": [],
   "source": [
    "def estim_var_MLMC_patho(n0,n1):\n",
    "    X1 = np.random.standard_normal((d,n1))\n",
    "    X0 = np.random.standard_normal((d,n0))\n",
    "\n",
    "    #estimateur de l'espérence\n",
    "    Y1_1 = f_vec(X1,v_1)\n",
    "    Y1_0 = f_vec(X1,v_0)\n",
    "    Y0_0 = f_vec(X0,v_0)\n",
    "    E_MLMC = np.mean(Y0_0) + np.mean(Y1_1-Y1_0)\n",
    "\n",
    "    #estimateur de la variance \n",
    "    Y0_0_squared = f_vec_squared(X0,v_0)\n",
    "    Y1_0_squared = f_vec_squared(X1,v_0)\n",
    "    Y1_1_squared = f_vec_squared(X1,v_1)\n",
    "    mean = np.mean(Y1_1_squared-Y1_0_squared) #qu'est ce qui doit etre neg ? \n",
    "    if mean < 0:\n",
    "        Var_MLMC = np.mean(Y0_0_squared) + mean\n",
    "        Var_MLMC_log = np.exp(np.log(np.mean(Y0_0_squared)) + np.log(np.mean(Y1_1_squared))-np.log(np.mean(Y1_0_squared)))\n",
    "        return [Var_MLMC, Var_MLMC_log]\n",
    "    else :\n",
    "        return 'a'\n"
   ]
  },
  {
   "cell_type": "code",
   "execution_count": 39,
   "metadata": {},
   "outputs": [],
   "source": [
    "def var_est_var_MLMC_patho(n):\n",
    "    n1=5\n",
    "    n0=953\n",
    "    tab_var=[]\n",
    "    tab_var_log =[]\n",
    "    for i in range(n):\n",
    "        estim_var_patho = estim_var_MLMC_patho(n0,n1)\n",
    "        if estim_var_patho != 'a' :\n",
    "            tab_var.append(estim_var_patho[0])\n",
    "            tab_var_log.append(estim_var_patho[1])\n",
    "\n",
    "    print(\"Nombre de cas patho = \", len(tab_var))\n",
    "    return [np.var(tab_var),np.var(tab_var_log)]"
   ]
  },
  {
   "cell_type": "code",
   "execution_count": 40,
   "metadata": {},
   "outputs": [
    {
     "name": "stdout",
     "output_type": "stream",
     "text": [
      "Nombre de cas patho =  0\n",
      "[nan, nan]\n"
     ]
    },
    {
     "name": "stderr",
     "output_type": "stream",
     "text": [
      "c:\\Users\\Lili\\Anaconda3\\Lib\\site-packages\\numpy\\core\\fromnumeric.py:3747: RuntimeWarning: Degrees of freedom <= 0 for slice\n",
      "  return _methods._var(a, axis=axis, dtype=dtype, out=out, ddof=ddof,\n",
      "c:\\Users\\Lili\\Anaconda3\\Lib\\site-packages\\numpy\\core\\_methods.py:226: RuntimeWarning: invalid value encountered in divide\n",
      "  arrmean = um.true_divide(arrmean, div, out=arrmean,\n",
      "c:\\Users\\Lili\\Anaconda3\\Lib\\site-packages\\numpy\\core\\_methods.py:261: RuntimeWarning: invalid value encountered in scalar divide\n",
      "  ret = ret.dtype.type(ret / rcount)\n"
     ]
    }
   ],
   "source": [
    "print(var_est_var_MLMC_patho(10000))"
   ]
  },
  {
   "cell_type": "code",
   "execution_count": null,
   "metadata": {},
   "outputs": [],
   "source": []
  }
 ],
 "metadata": {
  "kernelspec": {
   "display_name": "base",
   "language": "python",
   "name": "python3"
  },
  "language_info": {
   "codemirror_mode": {
    "name": "ipython",
    "version": 3
   },
   "file_extension": ".py",
   "mimetype": "text/x-python",
   "name": "python",
   "nbconvert_exporter": "python",
   "pygments_lexer": "ipython3",
   "version": "3.11.5"
  }
 },
 "nbformat": 4,
 "nbformat_minor": 2
}
