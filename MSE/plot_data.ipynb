{
 "cells": [
  {
   "cell_type": "code",
   "execution_count": null,
   "metadata": {},
   "outputs": [],
   "source": [
    "import numpy as np\n",
    "import matplotlib.pyplot as plt"
   ]
  },
  {
   "cell_type": "markdown",
   "metadata": {},
   "source": [
    "In this notebook, for coherence with the paper, B and $\\eta$ represents budget"
   ]
  },
  {
   "cell_type": "code",
   "execution_count": null,
   "metadata": {},
   "outputs": [],
   "source": [
    "path_big_N = 'save_temp_data_eta=1e4_N=1M/'\n",
    "path_big_eta = 'save_temp_data_eta=1e7_N=10K/'\n",
    "path_bootstrap = 'save_bootstrap_data/'"
   ]
  },
  {
   "cell_type": "code",
   "execution_count": null,
   "metadata": {},
   "outputs": [],
   "source": [
    "v_1= np.array([-0.00606533, -0.02837768, -0.20481078, -0.05524456,  0.00408442, -0.02378791, -0.11289296, -0.09047946, -0.0828985,   0.01015773])\n",
    "v_0 = np.array([-0.04775578, -0.02158142, -0.22861181,  0.00999135 , 0.05261623, -0.03810132, -0.08892537, -0.09858141, -0.06851002,  0.09957945])\n",
    "v_array = [v_0,v_1]\n",
    "exp_var = np.sum(np.square(v_1))\n",
    "C_ell = np.array([0.75,1.])  # Couts de nos estimateurs"
   ]
  },
  {
   "cell_type": "code",
   "execution_count": null,
   "metadata": {},
   "outputs": [],
   "source": [
    "exp_var"
   ]
  },
  {
   "cell_type": "markdown",
   "metadata": {},
   "source": [
    "## Plot Bootstrap box_plots\n",
    "\n",
    "Plotting bias w/ bootstrap errors bars"
   ]
  },
  {
   "cell_type": "code",
   "execution_count": null,
   "metadata": {},
   "outputs": [],
   "source": [
    "budget_eta = np.load(path_bootstrap + 'budget_eta.npy')\n",
    "bias_tab_boxplot = np.load(path_bootstrap + 'bootstrap_bias_savefile.npy')\n",
    "bias_tab_log_boxplot = np.load(path_bootstrap + 'bootstrap_bias_log_savefile.npy')\n",
    "\n",
    "# Boxplot\n",
    "fig, (ax1, ax2) = plt.subplots(1,2,figsize=(9, 5))\n",
    "\n",
    "\n",
    "ax1.boxplot(bias_tab_boxplot,positions=budget_eta, widths=(budget_eta*4)/budget_eta[0])\n",
    "ax2.boxplot(bias_tab_log_boxplot, positions=budget_eta, widths=(budget_eta*4)/budget_eta[0])\n",
    "\n",
    "ax1.set_xscale('log')\n",
    "ax1.set_yscale('log')\n",
    "ax1.set_ylim([1e-11,5e-3])\n",
    "\n",
    "ax2.set_xscale('log')\n",
    "ax2.set_yscale('log')\n",
    "ax2.set_ylim([1e-11,5e-3])\n",
    "\n",
    "# Labels & titles\n",
    "ax1.set_xlabel('Budget $B$')\n",
    "ax1.set_ylabel('Bias in euclidean metric')\n",
    "ax1.set_title('Bias of $\\hat{V}^{ML}_L$ and error rate')\n",
    "\n",
    "ax2.set_xlabel('Budget $B$')\n",
    "ax2.set_ylabel('Bias in euclidean metric')\n",
    "ax2.set_title('Bias of $\\hat{V}^{LML}_L$ and error rate')\n",
    "\n",
    "fig.tight_layout()\n",
    "\n",
    "plt.show()\n",
    "\n",
    "print(budget_eta)"
   ]
  },
  {
   "cell_type": "code",
   "execution_count": null,
   "metadata": {},
   "outputs": [],
   "source": [
    "# Créer les boxplots\n",
    "fig, (ax1, ax2) = plt.subplots(1, 2, figsize=(9, 5))\n",
    "\n",
    "# Boxplot pour le biais de V^ML_L\n",
    "ax1.boxplot(bias_tab_boxplot, positions=budget_eta, widths=(budget_eta*8)/budget_eta[0], patch_artist=True, boxprops=dict(facecolor=\"lightblue\"))\n",
    "ax1.set_xscale('log')\n",
    "ax1.set_yscale('log')\n",
    "ax1.set_ylim([1e-11, 5e-3])\n",
    "ax1.set_xlabel('Budget $B$')\n",
    "ax1.set_ylabel('Bias in euclidean metric')\n",
    "ax1.set_title('Bias of $\\hat{V}^{ML}_L$ as a function of budget')\n",
    "# ax1.legend([\"$\\hat{V}^{ML}_L$\"], loc='upper right')\n",
    "\n",
    "# Boxplot pour le biais de V^LML_L\n",
    "ax2.boxplot(bias_tab_log_boxplot, positions=budget_eta, widths=(budget_eta*8)/budget_eta[0], patch_artist=True, boxprops=dict(facecolor=\"bisque\"))\n",
    "ax2.set_xscale('log')\n",
    "ax2.set_yscale('log')\n",
    "ax2.set_ylim([1e-11, 5e-3])\n",
    "ax2.set_xlabel('Budget $B$')\n",
    "ax2.set_ylabel('Bias in euclidean metrice')\n",
    "ax2.set_title('Bias of $\\hat{V}^{LML}_L$ as a function of budget')\n",
    "# ax2.legend([\"$\\hat{V}^{LML}_L$\"], loc='upper right')\n",
    "\n",
    "# Améliorer la mise en page\n",
    "fig.suptitle('Comparison of bias as a function of budget for estimates $\\hat{V}^{ML}_L$ and $\\hat{V}^{LML}_L$')\n",
    "fig.tight_layout(rect=[0, 0, 1, 0.96])\n",
    "\n",
    "# Afficher les graphiques\n",
    "plt.show()\n"
   ]
  },
  {
   "cell_type": "markdown",
   "metadata": {},
   "source": [
    "## Import data"
   ]
  },
  {
   "cell_type": "code",
   "execution_count": null,
   "metadata": {},
   "outputs": [],
   "source": [
    "path = path_big_eta # a changer en fonction de ce que tu veux plot\n",
    "budget_eta = np.load(path + 'budget_eta.npy')\n",
    "Tab_res_MLMC = np.load(path + 'Tab_res_MLMC.npy')\n",
    "Tab_res_log_MLMC = np.load(path + 'Tab_res_log_MLMC.npy')\n",
    "np.shape(Tab_res_log_MLMC)\n",
    "# N results in function of 10 different budgets\n",
    "print(budget_eta)"
   ]
  },
  {
   "cell_type": "markdown",
   "metadata": {},
   "source": [
    "## Plot MSE Log-Euc"
   ]
  },
  {
   "cell_type": "code",
   "execution_count": null,
   "metadata": {},
   "outputs": [],
   "source": [
    "np.shape(np.log(Tab_res_log_MLMC))"
   ]
  },
  {
   "cell_type": "code",
   "execution_count": null,
   "metadata": {},
   "outputs": [],
   "source": [
    "# Plot 1: MSE_log_euclidean of Tab_res_log_MLMC en fonction de budget_eta\n",
    "MSE_log_euc_log_MLMC = np.mean(np.square(np.log(Tab_res_log_MLMC) - np.log(exp_var)), axis=0)\n",
    "plt.figure(figsize=(9, 5))\n",
    "plt.loglog(budget_eta, MSE_log_euc_log_MLMC, marker='x', color='darkorange', label=r'$\\mathbb{E}\\left[\\left|\\log (\\hat{V}^{LML}_{L}) - \\log (V)\\right|^2 \\right]$')\n",
    "plt.xlabel('Budget $B$')\n",
    "plt.ylabel('MSE in the log-Euclidean metric of $\\hat{V}^{LML}_L$')\n",
    "plt.title('MSE in the log-Euclidean metric as a function of budget $B$')\n",
    "plt.legend()\n",
    "plt.grid(True, which=\"both\", ls=\"--\")\n",
    "plt.show()"
   ]
  },
  {
   "cell_type": "markdown",
   "metadata": {},
   "source": [
    "## Plot MSE in Euc"
   ]
  },
  {
   "cell_type": "code",
   "execution_count": null,
   "metadata": {},
   "outputs": [],
   "source": [
    "MSE_euc_MLMC = np.mean(np.square(Tab_res_MLMC - exp_var),axis=0)\n",
    "MSE_euc_log_MLMC = np.mean(np.square(Tab_res_log_MLMC - exp_var),axis=0)\n",
    "\n",
    "plt.figure(figsize=(9, 5))\n",
    "plt.loglog(budget_eta, MSE_euc_MLMC, marker='o', label='MSE($\\hat{V}^{ML}_L$)')\n",
    "plt.loglog(budget_eta, MSE_euc_log_MLMC, marker='x', label='MSE($\\hat{V}^{LML}_L$)')\n",
    "plt.xlabel('Budget $B$')\n",
    "plt.ylabel('MSE')\n",
    "plt.title('Comparaison of the MSE of estimators in the Euclidean metric as a function of budget $B$')\n",
    "plt.legend()\n",
    "plt.grid(True, which=\"both\", ls=\"--\")\n",
    "plt.show()"
   ]
  },
  {
   "cell_type": "markdown",
   "metadata": {},
   "source": [
    "## Plot MSE log Euc de V^LML & MSE Euc de V^ML"
   ]
  },
  {
   "cell_type": "code",
   "execution_count": null,
   "metadata": {},
   "outputs": [],
   "source": [
    "plt.figure(figsize=(9, 5))\n",
    "plt.loglog(budget_eta, MSE_euc_MLMC, marker='o', label=r'$\\mathbb{E}\\left[\\left| \\hat{V}^{ML}_{L} - V \\right|^{2} \\right]$')\n",
    "plt.loglog(budget_eta, MSE_log_euc_log_MLMC, marker='x', label=r'$\\mathbb{E}\\left[\\left|\\log (\\hat{V}^{LML}_{L}) - \\log (V)\\right|^2 \\right]$')\n",
    "plt.xlabel('Budget $B$')\n",
    "plt.ylabel('MSE')\n",
    "plt.title('Comparaison of the MSE of estimators as stated in propostion 3.4 and 3.7')\n",
    "plt.legend()\n",
    "plt.grid(True, which=\"both\", ls=\"--\")\n",
    "plt.show()"
   ]
  },
  {
   "cell_type": "code",
   "execution_count": null,
   "metadata": {},
   "outputs": [],
   "source": [
    "fig, ax1 = plt.subplots(figsize=(10, 6))\n",
    "ax1.semilogx(budget_eta, MSE_log_euc_log_MLMC -  MSE_euc_MLMC, marker='s', color='g', label=r'$\\log \\left( \\mathbb{E}\\left[\\left|\\log (\\hat{V}^{LML}_{L}) - \\log (V)\\right|^2 \\right] \\right) - \\log \\left( \\mathbb{E}\\left[\\left| \\hat{V}^{ML}_{L} - V \\right|^{2} \\right] \\right)$')\n",
    "ax1.set_xlabel('Budget $B$')\n",
    "ax1.set_ylabel('MSE')\n",
    "ax1.set_title('Difference of the MSE of estimators as stated in propostion 3.4')\n",
    "ax1.legend()\n",
    "ax1.grid(True, which=\"both\", ls=\"--\")\n",
    "# ax1.set_ylim([4,6])\n",
    "plt.show()"
   ]
  },
  {
   "cell_type": "code",
   "execution_count": null,
   "metadata": {},
   "outputs": [],
   "source": [
    "fig, ax1 = plt.subplots(figsize=(10, 6))\n",
    "ax1.loglog(budget_eta, np.abs(MSE_log_euc_log_MLMC - MSE_euc_MLMC), marker='s', color='g', label=r'$ \\mathbb{E}\\left[\\left|\\log (\\hat{V}^{LML}_{L}) - \\log (V)\\right|^2 \\right] - \\mathbb{E}\\left[\\left| \\hat{V}^{ML}_{L} - V \\right|^{2} \\right]$')\n",
    "ax1.set_xlabel('Budget $B$')\n",
    "ax1.set_ylabel('MSE difference')\n",
    "ax1.set_title('Difference of the MSE of estimators as stated in propostion 3.4')\n",
    "ax1.legend()\n",
    "ax1.grid(True, which=\"both\", ls=\"--\")\n",
    "#ax1.set_ylim([4,6])\n",
    "plt.show()"
   ]
  },
  {
   "cell_type": "markdown",
   "metadata": {},
   "source": [
    "Interpretation : \n",
    "Cette décroissance est bien quadratique. "
   ]
  },
  {
   "cell_type": "markdown",
   "metadata": {},
   "source": [
    "#### Linear regress to find the slope"
   ]
  },
  {
   "cell_type": "code",
   "execution_count": null,
   "metadata": {},
   "outputs": [],
   "source": [
    "from scipy.stats import linregress\n",
    "\n",
    "# Régression linéaire sur les données transformées\n",
    "slope, intercept, r_value, p_value, std_err = linregress(np.log(budget_eta), np.log(np.abs(MSE_log_euc_log_MLMC - MSE_euc_MLMC)))\n"
   ]
  },
  {
   "cell_type": "code",
   "execution_count": null,
   "metadata": {},
   "outputs": [],
   "source": [
    "slope"
   ]
  },
  {
   "cell_type": "markdown",
   "metadata": {},
   "source": [
    "## Plot Variance in Euc"
   ]
  },
  {
   "cell_type": "code",
   "execution_count": null,
   "metadata": {},
   "outputs": [],
   "source": [
    "# Plot 4: Comparaison des variances de notre estimateur\n",
    "plt.figure(figsize=(9, 5))\n",
    "\n",
    "plt.loglog(budget_eta, np.var(Tab_res_MLMC, axis=0), marker='s', label='Var($\\hat{V}^{ML}_L$)')\n",
    "plt.loglog(budget_eta, np.var(Tab_res_log_MLMC, axis=0), marker='x', label='Var($\\hat{V}^{LML}_L$)')\n",
    "\n",
    "plt.title(f'Variance of estimators in the Euclidean metric as a function of budget $B$')\n",
    "plt.xlabel('Budget $B$')\n",
    "plt.ylabel('Var(estimator)')\n",
    "plt.legend()\n",
    "\n",
    "plt.grid(True, which=\"both\", ls=\"--\")\n",
    "\n",
    "plt.show()"
   ]
  },
  {
   "cell_type": "code",
   "execution_count": null,
   "metadata": {},
   "outputs": [],
   "source": []
  }
 ],
 "metadata": {
  "kernelspec": {
   "display_name": "Projet4A",
   "language": "python",
   "name": "python3"
  },
  "language_info": {
   "codemirror_mode": {
    "name": "ipython",
    "version": 3
   },
   "file_extension": ".py",
   "mimetype": "text/x-python",
   "name": "python",
   "nbconvert_exporter": "python",
   "pygments_lexer": "ipython3",
   "version": "3.8.19"
  }
 },
 "nbformat": 4,
 "nbformat_minor": 2
}
